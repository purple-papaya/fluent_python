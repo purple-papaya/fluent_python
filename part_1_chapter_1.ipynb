{
 "cells": [
  {
   "attachments": {},
   "cell_type": "markdown",
   "metadata": {},
   "source": [
    "# Python Data Model"
   ]
  },
  {
   "attachments": {},
   "cell_type": "markdown",
   "metadata": {},
   "source": [
    "= object model, metaobject protocol (interface)\n",
    " - an interface that we use to make our objects play well with the most idiomatic language features, such as sequences, functions, iterators, coroutines, classes, context managers etc.\n",
    " - implement special methods (\"dunder methods\" from double underscore before and after) when we want our objects to support and interact with fundamental language constructs, such as collections, attribute acess, iteration, string representation and formatting, object creation and destruction etc.\n",
    " - advantages of leveraging the data model with special methods: users don't have to memorize built-in method names; easier to benefit from Python standard library and avoid reinventing the wheel"
   ]
  },
  {
   "attachments": {},
   "cell_type": "markdown",
   "metadata": {},
   "source": [
    "![table1](Illustrations/p1ch1_1.png)"
   ]
  },
  {
   "attachments": {},
   "cell_type": "markdown",
   "metadata": {},
   "source": [
    "![table2](Illustrations/p1ch1_2.png)"
   ]
  }
 ],
 "metadata": {
  "kernelspec": {
   "display_name": "fluent_python",
   "language": "python",
   "name": "python3"
  },
  "language_info": {
   "codemirror_mode": {
    "name": "ipython",
    "version": 3
   },
   "file_extension": ".py",
   "mimetype": "text/x-python",
   "name": "python",
   "nbconvert_exporter": "python",
   "pygments_lexer": "ipython3",
   "version": "3.9.16"
  },
  "orig_nbformat": 4
 },
 "nbformat": 4,
 "nbformat_minor": 2
}
