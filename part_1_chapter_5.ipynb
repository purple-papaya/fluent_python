{
 "cells": [
  {
   "attachments": {},
   "cell_type": "markdown",
   "metadata": {},
   "source": [
    "# Data Class Builders"
   ]
  },
  {
   "attachments": {},
   "cell_type": "markdown",
   "metadata": {},
   "source": [
    " - data class is a simple class that is just a collection of fields with little to no extra functionality\n",
    " - three possible data class builders:\n",
    "    - `collections.namedtuple`\n",
    "    - `typing.NamedTuple`\n",
    "    - `@dataclasses.dataclass`"
   ]
  },
  {
   "cell_type": "code",
   "execution_count": 1,
   "metadata": {},
   "outputs": [
    {
     "data": {
      "text/plain": [
       "<__main__.Coordinate at 0x10d16b220>"
      ]
     },
     "metadata": {},
     "output_type": "display_data"
    },
    {
     "data": {
      "text/plain": [
       "False"
      ]
     },
     "metadata": {},
     "output_type": "display_data"
    },
    {
     "data": {
      "text/plain": [
       "True"
      ]
     },
     "metadata": {},
     "output_type": "display_data"
    }
   ],
   "source": [
    "class Coordinate:\n",
    "\n",
    "    def __init__(self, lat, lon):\n",
    "        self.lat = lat\n",
    "        self.lon = lon\n",
    "\n",
    "prague = Coordinate(51.07, 14.41)\n",
    "display(prague)\n",
    "\n",
    "mystery_location = Coordinate(51.07, 14.41)\n",
    "display(prague == mystery_location)\n",
    "display((prague.lat, prague.lon) == (mystery_location.lat, mystery_location.lon))"
   ]
  },
  {
   "attachments": {},
   "cell_type": "markdown",
   "metadata": {},
   "source": [
    " - `__repr__` inherited from `object` is not helpful\n",
    " - `__eq__` inherited from `object` compares object IDs\n",
    " - comparing coordinates requires explicit comparison of each attribute\n",
    "\n",
    " => data class builders provide these methods automatically\n",
    " \n",
    " => none depend on inheritance - they use different metaprogramming techniques to inject methods and data attributes into the class under construction"
   ]
  },
  {
   "attachments": {},
   "cell_type": "markdown",
   "metadata": {},
   "source": [
    "##### `collections.namedtuple`"
   ]
  },
  {
   "cell_type": "code",
   "execution_count": 2,
   "metadata": {},
   "outputs": [
    {
     "data": {
      "text/plain": [
       "True"
      ]
     },
     "metadata": {},
     "output_type": "display_data"
    },
    {
     "data": {
      "text/plain": [
       "Coordinate(lat=51.07, lon=14.41)"
      ]
     },
     "metadata": {},
     "output_type": "display_data"
    },
    {
     "data": {
      "text/plain": [
       "True"
      ]
     },
     "metadata": {},
     "output_type": "display_data"
    }
   ],
   "source": [
    "from collections import namedtuple\n",
    "\n",
    "Coordinate = namedtuple('Coordinate', 'lat lon')\n",
    "display(issubclass(Coordinate, tuple))\n",
    "\n",
    "prague = Coordinate(51.07, 14.41)\n",
    "display(prague)\n",
    "display(prague == Coordinate(51.07, 14.41))"
   ]
  },
  {
   "attachments": {},
   "cell_type": "markdown",
   "metadata": {},
   "source": [
    " - useful `__repr__`\n",
    " - meaningful `__eq__`"
   ]
  },
  {
   "attachments": {},
   "cell_type": "markdown",
   "metadata": {},
   "source": [
    "##### `typing.NamedTuple`"
   ]
  },
  {
   "cell_type": "code",
   "execution_count": null,
   "metadata": {},
   "outputs": [],
   "source": [
    "import typing\n",
    "from typing import NamedTuple\n",
    "\n",
    "Coordinate = typing.NamedTuple('Coordinate', [('lat', float), \n",
    "                                              ('lon', float)])\n",
    "display(issubclass(Coordinate, tuple))\n",
    "\n",
    "class Coordinate(NamedTuple):\n",
    "    lat: float\n",
    "    lon: float\n",
    "\n",
    "    def __str__(self):\n",
    "        ns = 'N' if self.lat >= 0 else 'S'\n",
    "        we = 'E' if self.lon >= 0 else 'W'\n",
    "\n",
    "        return f'{abs(self.lat):.1f}˚{ns}, {abs(self.lon):.1f}˚{we}'\n",
    "\n"
   ]
  },
  {
   "attachments": {},
   "cell_type": "markdown",
   "metadata": {},
   "source": [
    " - supports type annotation to each field\n",
    " - since Python 3.6, `NamedTuple` can be used in a `class` statement with type annotations improving readability and method implementation\n",
    " - although `NamedTuple` appears in the `class` statement as a superclass, it is actually a metaclass"
   ]
  },
  {
   "attachments": {},
   "cell_type": "markdown",
   "metadata": {},
   "source": [
    "##### `@dataclasses.dataclass`"
   ]
  },
  {
   "cell_type": "code",
   "execution_count": null,
   "metadata": {},
   "outputs": [],
   "source": [
    "from dataclasses import dataclass\n",
    "\n",
    "@dataclass(frozen=True)\n",
    "class Coordinate:\n",
    "    lat: float\n",
    "    lon: float\n",
    "\n",
    "    def __str__(self):\n",
    "        ns = 'N' if self.lat >= 0 else 'S'\n",
    "        we = 'E' if self.lon >= 0 else 'W'\n",
    "\n",
    "        return f'{abs(self.lat):.1f}˚{ns}, {abs(self.lon):.1f}˚{we}'"
   ]
  },
  {
   "attachments": {},
   "cell_type": "markdown",
   "metadata": {},
   "source": [
    " - declares instance variables, reads variable annotations and automatically generates methods for your class\n",
    " - does not depend on inheritance or a metaclass -> subclass of `object`"
   ]
  },
  {
   "attachments": {},
   "cell_type": "markdown",
   "metadata": {},
   "source": [
    "##### Comparison of data class builders"
   ]
  },
  {
   "attachments": {},
   "cell_type": "markdown",
   "metadata": {},
   "source": [
    "![table1](Illustrations/p1ch5_1.png)"
   ]
  },
  {
   "attachments": {},
   "cell_type": "markdown",
   "metadata": {},
   "source": [
    " - `collections.namedtuple` and `typing.NamedTuple` produce `tuple` subclasses, therefore instances are immutable\n",
    " - `@dataclass` produces mutable classes (unless `frozen=True`)"
   ]
  },
  {
   "attachments": {},
   "cell_type": "markdown",
   "metadata": {},
   "source": [
    " - only `typing.NamedTuple` and `@dataclass` support regular `class` statement making it easier to implement methods"
   ]
  },
  {
   "attachments": {},
   "cell_type": "markdown",
   "metadata": {},
   "source": [
    " - both tuple variants provide an instance method to construct `dict` object from fields in the data class instance\n",
    " - `dataclasses` module provides a function `.asdict`"
   ]
  },
  {
   "attachments": {},
   "cell_type": "markdown",
   "metadata": {},
   "source": [
    " - both tuple variants provide field names and default values with `._fields` and `._field_defaults` class attributes\n",
    " - `dataclasses` module provides a `fields` function"
   ]
  },
  {
   "attachments": {},
   "cell_type": "markdown",
   "metadata": {},
   "source": [
    "- both `typing.NamedTuple` and `@dataclass` provide field types"
   ]
  },
  {
   "attachments": {},
   "cell_type": "markdown",
   "metadata": {},
   "source": [
    " - both tuple variants use instance methods `._replace` to change attributes while the decorator uses module-level function `.replace`"
   ]
  },
  {
   "attachments": {},
   "cell_type": "markdown",
   "metadata": {},
   "source": [
    " - framework may need to build data classes on the fly at runtime -> both tuple variants use standrd calls while the decorator has a module-level function `.make_dataclass`"
   ]
  },
  {
   "attachments": {},
   "cell_type": "markdown",
   "metadata": {},
   "source": [
    "##### Classic named tuples"
   ]
  },
  {
   "attachments": {},
   "cell_type": "markdown",
   "metadata": {},
   "source": [
    " - class name and a list of field names (either as list of strings or space delimited string) are needed to create a named tuple\n",
    " - field values must be passed as separate positional arguments to the constructor\n",
    " - fields can be accessed by name or position"
   ]
  },
  {
   "cell_type": "code",
   "execution_count": 3,
   "metadata": {},
   "outputs": [
    {
     "data": {
      "text/plain": [
       "City(name='Prague', country='Czech Republic', population=1.309, coordinates=(51.07, 14.41))"
      ]
     },
     "metadata": {},
     "output_type": "display_data"
    },
    {
     "data": {
      "text/plain": [
       "'Czech Republic'"
      ]
     },
     "metadata": {},
     "output_type": "display_data"
    },
    {
     "data": {
      "text/plain": [
       "1.309"
      ]
     },
     "metadata": {},
     "output_type": "display_data"
    }
   ],
   "source": [
    "City = namedtuple('City', 'name country population coordinates')\n",
    "\n",
    "prague = City('Prague', 'Czech Republic', 1.309, (51.07, 14.41))\n",
    "display(prague)\n",
    "display(prague.country)\n",
    "display(prague[2])"
   ]
  },
  {
   "attachments": {},
   "cell_type": "markdown",
   "metadata": {},
   "source": [
    " - as a `tuple` subclass, it inherits useful methods such as `__eq__` and comparison operators (enabling sorting)\n",
    " - in addition to those inherited, `_fields` class attribute and `_asdict()` instance method are the most useful"
   ]
  },
  {
   "cell_type": "code",
   "execution_count": 5,
   "metadata": {},
   "outputs": [
    {
     "data": {
      "text/plain": [
       "('name', 'country', 'population', 'coordinates')"
      ]
     },
     "metadata": {},
     "output_type": "display_data"
    },
    {
     "data": {
      "text/plain": [
       "{'name': 'Prague',\n",
       " 'country': 'Czech Republic',\n",
       " 'population': 1.309,\n",
       " 'coordinates': (51.07, 14.41)}"
      ]
     },
     "metadata": {},
     "output_type": "display_data"
    }
   ],
   "source": [
    "display(City._fields)\n",
    "display(prague._asdict())"
   ]
  },
  {
   "attachments": {},
   "cell_type": "markdown",
   "metadata": {},
   "source": [
    " - since Python 3.7, `namedtuple` accepts the `defaults` keyword-only argument providing an iterable of N default values for each of the N rightmost fields of the class\n",
    " - methods can be added to `namedtuple` as a class attribute but it is hacky and much easier to do with the other two data class builders"
   ]
  },
  {
   "attachments": {},
   "cell_type": "markdown",
   "metadata": {},
   "source": [
    "##### Typed named tuples"
   ]
  },
  {
   "cell_type": "markdown",
   "metadata": {},
   "source": []
  }
 ],
 "metadata": {
  "kernelspec": {
   "display_name": "fluent_python",
   "language": "python",
   "name": "python3"
  },
  "language_info": {
   "codemirror_mode": {
    "name": "ipython",
    "version": 3
   },
   "file_extension": ".py",
   "mimetype": "text/x-python",
   "name": "python",
   "nbconvert_exporter": "python",
   "pygments_lexer": "ipython3",
   "version": "3.9.16"
  },
  "orig_nbformat": 4
 },
 "nbformat": 4,
 "nbformat_minor": 2
}
